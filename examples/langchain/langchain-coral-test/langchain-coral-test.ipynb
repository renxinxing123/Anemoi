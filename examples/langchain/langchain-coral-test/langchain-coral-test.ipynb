{
 "cells": [
  {
   "cell_type": "code",
   "execution_count": 16,
   "id": "ef53cf65",
   "metadata": {},
   "outputs": [],
   "source": [
    "import asyncio\n",
    "from time import sleep\n",
    "from langchain_mcp_adapters.client import MultiServerMCPClient\n",
    "from langchain_mcp_adapters.tools import load_mcp_tools"
   ]
  },
  {
   "cell_type": "code",
   "execution_count": 17,
   "id": "6d656f67",
   "metadata": {},
   "outputs": [
    {
     "name": "stdout",
     "output_type": "stream",
     "text": [
      "Connected to MCP server as test_agent1 at http://localhost:5555/devmode/exampleApplication/privkey/session1/sse?waitForAgents=1&agentId=test_agent&agentDescription=You+are+the+first+test+agent.\n"
     ]
    },
    {
     "name": "stderr",
     "output_type": "stream",
     "text": [
      "Error in sse_reader: peer closed connection without sending complete message body (incomplete chunked read)\n"
     ]
    }
   ],
   "source": [
    "import urllib.parse\n",
    "base_url_1 = \"http://localhost:5555/devmode/exampleApplication/privkey/session1/sse\"\n",
    "params_1 = {\n",
    "    \"waitForAgents\": 1,\n",
    "    \"agentId\": \"test_agent\",\n",
    "    \"agentDescription\": \"You are the first test agent.\"\n",
    "}\n",
    "query_string = urllib.parse.urlencode(params_1)\n",
    "MCP_SERVER_URL_1 = f\"{base_url_1}?{query_string}\"\n",
    "async def connect_client():\n",
    "    global mcp_client_1\n",
    "    mcp_client_1 = MultiServerMCPClient(\n",
    "        connections={\n",
    "            \"coral\": {\n",
    "                \"transport\": \"sse\",\n",
    "                \"url\": MCP_SERVER_URL_1,\n",
    "                \"timeout\": 5,\n",
    "                \"sse_read_timeout\": 300,\n",
    "            }\n",
    "        }\n",
    "    )\n",
    "    await mcp_client_1.__aenter__()\n",
    "    print(f\"Connected to MCP server as test_agent1 at {MCP_SERVER_URL_1}\")\n",
    "\n",
    "await connect_client()\n"
   ]
  },
  {
   "cell_type": "code",
   "execution_count": 18,
   "id": "5df6efb9",
   "metadata": {},
   "outputs": [
    {
     "name": "stdout",
     "output_type": "stream",
     "text": [
      "Connected to MCP server as test_agent2 at http://localhost:5555/devmode/exampleApplication/privkey/session1/sse?waitForAgents=1&agentId=test_agent2&agentDescription=You+are+the+second+test+agent.\n"
     ]
    },
    {
     "name": "stderr",
     "output_type": "stream",
     "text": [
      "Error in sse_reader: \n"
     ]
    }
   ],
   "source": [
    "import urllib.parse\n",
    "from langchain_mcp_adapters.client import MultiServerMCPClient\n",
    "\n",
    "base_url_2 = \"http://localhost:5555/devmode/exampleApplication/privkey/session1/sse\"\n",
    "params_2 = {\n",
    "    \"waitForAgents\": 1,\n",
    "    \"agentId\": \"test_agent2\",\n",
    "    \"agentDescription\": \"You are the second test agent.\"\n",
    "}\n",
    "query_string_2 = urllib.parse.urlencode(params_2)\n",
    "MCP_SERVER_URL_2 = f\"{base_url_2}?{query_string_2}\"\n",
    "\n",
    "async def connect_second_agent():\n",
    "    global mcp_client_2\n",
    "    mcp_client_2 = MultiServerMCPClient(\n",
    "        connections={\n",
    "            \"coral\": {\n",
    "                \"transport\": \"sse\",\n",
    "                \"url\": MCP_SERVER_URL_2,\n",
    "                \"timeout\": 5,\n",
    "                \"sse_read_timeout\": 300,\n",
    "            }\n",
    "        }\n",
    "    )\n",
    "    await mcp_client_2.__aenter__()\n",
    "    print(f\"Connected to MCP server as test_agent2 at {MCP_SERVER_URL_2}\")\n",
    "\n",
    "await connect_second_agent()\n"
   ]
  },
  {
   "cell_type": "code",
   "execution_count": 19,
   "id": "a4309bb5",
   "metadata": {},
   "outputs": [
    {
     "name": "stdout",
     "output_type": "stream",
     "text": [
      "get_tools result: Available tools for test_agent: ['list_agents', 'create_thread', 'add_participant', 'remove_participant', 'close_thread', 'send_message', 'wait_for_mentions']\n"
     ]
    }
   ],
   "source": [
    "async def get_tools():\n",
    "    global tools_by_name1, tool_names1\n",
    "    try:\n",
    "        tools = mcp_client_1.get_tools()\n",
    "        tool_names1 = [tool.name for tool in tools]\n",
    "        tools_by_name1 = {tool.name: tool for tool in tools}\n",
    "        print(f\"get_tools result: Available tools for test_agent: {tool_names1}\")\n",
    "    except Exception as e:\n",
    "        print(f\"get_tools error: Failed to retrieve tools: {str(e)}\")\n",
    "\n",
    "await get_tools()"
   ]
  },
  {
   "cell_type": "code",
   "execution_count": 20,
   "id": "d9dd9c37",
   "metadata": {},
   "outputs": [
    {
     "name": "stdout",
     "output_type": "stream",
     "text": [
      "get_tools_agent2 result: Available tools for test_agent2: ['list_agents', 'create_thread', 'add_participant', 'remove_participant', 'close_thread', 'send_message', 'wait_for_mentions']\n"
     ]
    }
   ],
   "source": [
    "async def get_tools_agent2():\n",
    "    global tools_by_name2, tool_names2\n",
    "    try:\n",
    "        tools = mcp_client_2.get_tools()\n",
    "        tool_names2 = [tool.name for tool in tools]\n",
    "        tools_by_name2 = {tool.name: tool for tool in tools}\n",
    "        print(f\"get_tools_agent2 result: Available tools for test_agent2: {tool_names2}\")\n",
    "    except Exception as e:\n",
    "        print(f\"get_tools_agent2 error: Failed to retrieve tools for test_agent2: {str(e)}\")\n",
    "\n",
    "await get_tools_agent2()"
   ]
  },
  {
   "cell_type": "code",
   "execution_count": 21,
   "id": "87e74cf6",
   "metadata": {},
   "outputs": [
    {
     "name": "stdout",
     "output_type": "stream",
     "text": [
      "list_agents result:\n",
      "Registered Agents (2):\n",
      "  - ID: test_agent2\n",
      "  - Name: test_agent2\n",
      "  - Description: You are the second test agent.\n",
      "  - ID: test_agent\n",
      "  - Name: test_agent\n",
      "  - Description: You are the first test agent.\n"
     ]
    }
   ],
   "source": [
    "async def list_agents():\n",
    "    try:\n",
    "        result = await tools_by_name1[\"list_agents\"].ainvoke({\n",
    "            \"includeDetails\": True\n",
    "        })\n",
    "        print(\"list_agents result:\")\n",
    "        lines = result.strip().split(\"\\n\")\n",
    "        print(lines[0])  # Header\n",
    "        for line in lines[1:]:\n",
    "            parts = [p.strip() for p in line.split(\",\")]\n",
    "            for part in parts:\n",
    "                print(f\"  - {part}\")\n",
    "    except KeyError:\n",
    "        print(\"list_agents error: Tool 'list_agents' not found\")\n",
    "    except Exception as e:\n",
    "        print(f\"list_agents error: Failed to list agents: {str(e)}\")\n",
    "\n",
    "await list_agents()"
   ]
  },
  {
   "cell_type": "code",
   "execution_count": 22,
   "id": "dee57c0c",
   "metadata": {},
   "outputs": [
    {
     "name": "stdout",
     "output_type": "stream",
     "text": [
      "create_thread result: Thread created successfully:\n",
      "ID: acf36339-cdf4-45ad-9854-0bf2b82048f7\n",
      "Name: test_thread\n",
      "Creator: test_agent\n",
      "Participants: test_agent2, test_agent\n"
     ]
    }
   ],
   "source": [
    "async def create_thread():\n",
    "    global thread_id\n",
    "    try:\n",
    "        result = await tools_by_name1[\"create_thread\"].ainvoke({\n",
    "            \"threadName\": \"test_thread\",\n",
    "            \"participantIds\": [\"test_agent2\"]\n",
    "        })\n",
    "        # Parse thread ID from result (format: \"Thread created successfully:\\nID: <thread_id>\\n...\")\n",
    "        lines = result.strip().split(\"\\n\")\n",
    "        for line in lines:\n",
    "            if line.startswith(\"ID:\"):\n",
    "                thread_id = line.split(\":\", 1)[1].strip()\n",
    "                break\n",
    "        else:\n",
    "            thread_id = None\n",
    "            print(\"create_thread warning: Thread ID not found in result\")\n",
    "        print(f\"create_thread result: {result}\")\n",
    "    except KeyError:\n",
    "        print(\"create_thread error: Tool 'create_thread' not found\")\n",
    "    except Exception as e:\n",
    "        print(f\"create_thread error: Failed to create thread: {str(e)}\")\n",
    "\n",
    "await create_thread()"
   ]
  },
  {
   "cell_type": "code",
   "execution_count": 23,
   "id": "a4ebadd3",
   "metadata": {},
   "outputs": [
    {
     "name": "stdout",
     "output_type": "stream",
     "text": [
      "send_message result: Message sent successfully:\n",
      "ID: 9f81745a-1d13-4e14-91a8-df2ddad036a3\n",
      "Thread: acf36339-cdf4-45ad-9854-0bf2b82048f7\n",
      "Sender: test_agent\n",
      "Content: Hello, this is a message from Agent1!\n",
      "Mentions: test_agent2\n"
     ]
    }
   ],
   "source": [
    "async def send_message():\n",
    "    try:\n",
    "        if thread_id is None:\n",
    "            print(\"send_message error: No thread ID available\")\n",
    "            return\n",
    "        result = await tools_by_name1[\"send_message\"].ainvoke({\n",
    "            \"threadId\": thread_id,\n",
    "            \"content\": \"Hello, this is a message from Agent1!\",  # Updated to match received message\n",
    "            \"mentions\": [\"test_agent2\"]\n",
    "        })\n",
    "        print(f\"send_message result: {result}\")\n",
    "    except KeyError:\n",
    "        print(\"send_message error: Tool 'send_message' not found\")\n",
    "    except Exception as e:\n",
    "        print(f\"send_message error: Failed to send message: {str(e)}\")\n",
    "\n",
    "await send_message()"
   ]
  },
  {
   "cell_type": "code",
   "execution_count": 24,
   "id": "da0c987c",
   "metadata": {},
   "outputs": [
    {
     "name": "stdout",
     "output_type": "stream",
     "text": [
      "wait_for_mentions_agent2 result: <messages>\n",
      "  <thread id=\"acf36339-cdf4-45ad-9854-0bf2b82048f7\" name=\"test_thread\">\n",
      "    <status>open</status>\n",
      "    <participants>\n",
      "      <participant id=\"test_agent2\" name=\"test_agent2\" />\n",
      "      <participant id=\"test_agent\" name=\"test_agent\" />\n",
      "    </participants>\n",
      "    <messages>\n",
      "      <message id=\"9f81745a-1d13-4e14-91a8-df2ddad036a3\" timestamp=\"1746545500979\">\n",
      "        <sender id=\"test_agent\" name=\"test_agent\" />\n",
      "        <mentions>\n",
      "          <mention id=\"test_agent2\" name=\"test_agent2\" />\n",
      "        </mentions>\n",
      "        <content>Hello, this is a message from Agent1!</content>\n",
      "      </message>\n",
      "    </messages>\n",
      "  </thread>\n",
      "</messages>\n"
     ]
    }
   ],
   "source": [
    "async def wait_for_mentions_agent2():\n",
    "    try:\n",
    "        result = await tools_by_name2[\"wait_for_mentions\"].ainvoke({\n",
    "            \"timeoutMs\": 8000\n",
    "        })\n",
    "        print(f\"wait_for_mentions_agent2 result: {result}\")\n",
    "    except KeyError:\n",
    "        print(\"wait_for_mentions_agent2 error: Tool 'wait_for_mentions' not found\")\n",
    "    except Exception as e:\n",
    "        print(f\"wait_for_mentions_agent2 error: Failed to wait for mentions: {str(e)}\")\n",
    "\n",
    "await wait_for_mentions_agent2()"
   ]
  },
  {
   "cell_type": "code",
   "execution_count": 25,
   "id": "30a2cfe4",
   "metadata": {},
   "outputs": [
    {
     "name": "stdout",
     "output_type": "stream",
     "text": [
      "send_another_message result: Message sent successfully:\n",
      "ID: 4ae5f636-2749-4782-a7b2-086ccb43a04e\n",
      "Thread: acf36339-cdf4-45ad-9854-0bf2b82048f7\n",
      "Sender: test_agent2\n",
      "Content: Hi, I received your message!\n",
      "Mentions: test_agent\n"
     ]
    }
   ],
   "source": [
    "async def send_another_message():\n",
    "    try:\n",
    "        if thread_id is None:\n",
    "            print(\"send_another_message error: No thread ID available\")\n",
    "            return\n",
    "        result = await tools_by_name2[\"send_message\"].ainvoke({\n",
    "            \"threadId\": thread_id,\n",
    "            \"content\": \"Hi, I received your message!\",\n",
    "            \"mentions\": [\"test_agent\"]\n",
    "        })\n",
    "        print(f\"send_another_message result: {result}\")\n",
    "    except KeyError:\n",
    "        print(\"send_another_message error: Tool 'send_message' not found\")\n",
    "    except Exception as e:\n",
    "        print(f\"send_another_message error: Failed to send message: {str(e)}\")\n",
    "\n",
    "await send_another_message()"
   ]
  },
  {
   "cell_type": "code",
   "execution_count": 30,
   "id": "7064018d",
   "metadata": {},
   "outputs": [
    {
     "name": "stdout",
     "output_type": "stream",
     "text": [
      "wait_for_mentions_agent2 result: <messages>\n",
      "  <thread id=\"acf36339-cdf4-45ad-9854-0bf2b82048f7\" name=\"test_thread\">\n",
      "    <status>open</status>\n",
      "    <participants>\n",
      "      <participant id=\"test_agent2\" name=\"test_agent2\" />\n",
      "      <participant id=\"test_agent\" name=\"test_agent\" />\n",
      "    </participants>\n",
      "    <messages>\n",
      "      <message id=\"4ae5f636-2749-4782-a7b2-086ccb43a04e\" timestamp=\"1746545501393\">\n",
      "        <sender id=\"test_agent2\" name=\"test_agent2\" />\n",
      "        <mentions>\n",
      "          <mention id=\"test_agent\" name=\"test_agent\" />\n",
      "        </mentions>\n",
      "        <content>Hi, I received your message!</content>\n",
      "      </message>\n",
      "    </messages>\n",
      "  </thread>\n",
      "</messages>\n"
     ]
    },
    {
     "data": {
      "text/plain": [
       "'<messages>\\n  <thread id=\"acf36339-cdf4-45ad-9854-0bf2b82048f7\" name=\"test_thread\">\\n    <status>open</status>\\n    <participants>\\n      <participant id=\"test_agent2\" name=\"test_agent2\" />\\n      <participant id=\"test_agent\" name=\"test_agent\" />\\n    </participants>\\n    <messages>\\n      <message id=\"4ae5f636-2749-4782-a7b2-086ccb43a04e\" timestamp=\"1746545501393\">\\n        <sender id=\"test_agent2\" name=\"test_agent2\" />\\n        <mentions>\\n          <mention id=\"test_agent\" name=\"test_agent\" />\\n        </mentions>\\n        <content>Hi, I received your message!</content>\\n      </message>\\n    </messages>\\n  </thread>\\n</messages>'"
      ]
     },
     "execution_count": 30,
     "metadata": {},
     "output_type": "execute_result"
    }
   ],
   "source": [
    "async def wait_for_mentions_agent2():\n",
    "    try:\n",
    "        result = await tools_by_name1[\"wait_for_mentions\"].ainvoke({\"timeoutMs\": 8000})\n",
    "        print(f\"wait_for_mentions_agent2 result: {result}\")\n",
    "        return result\n",
    "    except KeyError:\n",
    "        print(\"wait_for_mentions_agent2 error: Tool 'wait_for_mentions' not found\")\n",
    "        return None\n",
    "    except Exception as e:\n",
    "        print(f\"wait_for_mentions_agent2 error: Failed to wait for mentions: {str(e)}\")\n",
    "    return None\n",
    "\n",
    "await wait_for_mentions_agent2()"
   ]
  },
  {
   "cell_type": "code",
   "execution_count": 27,
   "id": "ea8e82b1",
   "metadata": {},
   "outputs": [],
   "source": [
    "# for this test we have already added a participant to the thread, hence it will fail\n",
    "# async def add_participant():\n",
    "#     result = await tools_by_name1[\"add_participant\"].ainvoke({\n",
    "#         \"threadId\": \"753f0f70-972d-45dd-86b6-372ec49c6767\",\n",
    "#         \"participantId\": \"test_agent3\"\n",
    "#     })\n",
    "#     print(f\"Add participant result: {result}\")\n",
    "\n",
    "# await add_participant()"
   ]
  },
  {
   "cell_type": "code",
   "execution_count": 28,
   "id": "a563d6d0",
   "metadata": {},
   "outputs": [],
   "source": [
    "# async def remove_participant():\n",
    "#     result = await tools_by_name1[\"remove_participant\"].ainvoke({\n",
    "#         \"threadId\": \"753f0f70-972d-45dd-86b6-372ec49c6767\",\n",
    "#         \"participantId\": \"test_agent2\"\n",
    "#     })\n",
    "#     print(f\"Remove participant result: {result}\")\n",
    "\n",
    "# await remove_participant()"
   ]
  },
  {
   "cell_type": "code",
   "execution_count": 29,
   "id": "bb119bdb",
   "metadata": {},
   "outputs": [],
   "source": [
    "# async def close_thread():\n",
    "#     result = await tools_by_name1[\"close_thread\"].ainvoke({\n",
    "#         \"threadId\": \"753f0f70-972d-45dd-86b6-372ec49c6767\",\n",
    "#         \"summary\": \"Discussion completed between test_agent and test_agent2.\"\n",
    "#     })\n",
    "#     print(f\"Close thread result: {result}\")\n",
    "\n",
    "# await close_thread()"
   ]
  }
 ],
 "metadata": {
  "kernelspec": {
   "display_name": "Python 3",
   "language": "python",
   "name": "python3"
  },
  "language_info": {
   "codemirror_mode": {
    "name": "ipython",
    "version": 3
   },
   "file_extension": ".py",
   "mimetype": "text/x-python",
   "name": "python",
   "nbconvert_exporter": "python",
   "pygments_lexer": "ipython3",
   "version": "3.10.12"
  }
 },
 "nbformat": 4,
 "nbformat_minor": 5
}
